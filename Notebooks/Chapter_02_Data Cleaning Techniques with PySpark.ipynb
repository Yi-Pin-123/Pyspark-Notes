{
 "cells": [
  {
   "cell_type": "code",
   "execution_count": 2,
   "metadata": {},
   "outputs": [
    {
     "name": "stderr",
     "output_type": "stream",
     "text": [
      "25/02/13 22:46:31 WARN Utils: Your hostname, codespaces-6baec6 resolves to a loopback address: 127.0.0.1; using 10.0.1.82 instead (on interface eth0)\n",
      "25/02/13 22:46:31 WARN Utils: Set SPARK_LOCAL_IP if you need to bind to another address\n",
      "Setting default log level to \"WARN\".\n",
      "To adjust logging level use sc.setLogLevel(newLevel). For SparkR, use setLogLevel(newLevel).\n",
      "25/02/13 22:46:32 WARN NativeCodeLoader: Unable to load native-hadoop library for your platform... using builtin-java classes where applicable\n",
      "25/02/13 22:46:33 WARN Utils: Service 'SparkUI' could not bind on port 4040. Attempting port 4041.\n"
     ]
    }
   ],
   "source": [
    "# Initialize Spark Session\n",
    "from pyspark.sql import SparkSession\n",
    "from pyspark.sql.functions import col, when, isnull, count, regexp_extract, split, coalesce, lit, to_date\n",
    "from pyspark.sql.types import StructType, StructField, StringType, IntegerType, DoubleType, DateType, ArrayType\n",
    "import pyspark.sql.functions as F\n",
    "\n",
    "# Create Spark Session\n",
    "spark = SparkSession.builder \\\n",
    "    .appName(\"HighPerformancePySpark\") \\\n",
    "    .getOrCreate()\n",
    "\n",
    "# Set log level to WARN to reduce verbosity\n",
    "spark.sparkContext.setLogLevel(\"WARN\")"
   ]
  },
  {
   "cell_type": "code",
   "execution_count": null,
   "metadata": {},
   "outputs": [
    {
     "name": "stdout",
     "output_type": "stream",
     "text": [
      "Raw Dataset:\n",
      "+--------+-----------------------------------------+----------+----------------+--------+------------------+------------------+----------------------------+\n",
      "|order_id|customer_details                         |order_date|product_category|quantity|price_per_unit    |tags              |items                       |\n",
      "+--------+-----------------------------------------+----------+----------------+--------+------------------+------------------+----------------------------+\n",
      "|ORD001  |Alice Johnson                            |NULL      |Electronics     |4       |15.769160684603047|['urgent', 'gift']|['Phone', 'Charger', 'Case']|\n",
      "|ORD002  |Bob Smith | 584 Street Name, City 16     |2022-12-30|NULL            |-3      |fifty             |['bulk_order']    |['Book1', 'Book2']          |\n",
      "|ORD003  |Charlie Brown | 598 Street Name, City 17 |2023-05-22|Books           |ten     |79.63563178465238 |NULL              |['Book1', 'Book2']          |\n",
      "|ORD004  |David Wilson | 290 Street Name, City 12  |2022-12-30|Books           |NULL    |27.556430196566655|NULL              |['Laptop', 'Mouse', None]   |\n",
      "|ORD005  |Eva Davis | 387 Street Name, City 10     |NULL      |NULL            |-4      |fifty             |['bulk_order']    |['Phone', 'Charger', 'Case']|\n",
      "|ORD006  |Frank Miller                             |2023-05-22|NULL            |10      |fifty             |urgent,gift       |['Table', 'Chair', -1]      |\n",
      "|ORD007  |Grace Lee | 869 Street Name, City 16     |2023-05-22|Books           |NULL    |fifty             |['bulk_order']    |['Table', 'Chair', -1]      |\n",
      "|ORD008  |Henry Moore | 661 Street Name, City 7    |2022-12-30|NULL            |-3      |NULL              |urgent,gift       |['Table', 'Chair', -1]      |\n",
      "|ORD009  |Ivy Taylor | 239 Street Name, City 3     |NULL      |NULL            |NULL    |fifty             |urgent,gift       |['Book1', 'Book2']          |\n",
      "|ORD010  |James Anderson | 760 Street Name, City 16|2023-01-15|Electronics     |4       |37.530252520104796|urgent,gift       |NULL                        |\n",
      "+--------+-----------------------------------------+----------+----------------+--------+------------------+------------------+----------------------------+\n",
      "only showing top 10 rows\n",
      "\n"
     ]
    }
   ],
   "source": [
    "# Define schema for the dataset\n",
    "schema = StructType([\n",
    "    StructField(\"order_id\", StringType(), True),\n",
    "    StructField(\"customer_details\", StringType(), True),\n",
    "    StructField(\"order_date\", StringType(), True),\n",
    "    StructField(\"product_category\", StringType(), True),\n",
    "    StructField(\"quantity\", StringType(), True),\n",
    "    StructField(\"price_per_unit\", StringType(), True),\n",
    "    StructField(\"tags\", StringType(), True),\n",
    "    StructField(\"items\", StringType(), True)\n",
    "])\n",
    "\n",
    "# Load the dataset\n",
    "df = spark.read.csv(\"/workspaces/high-performance-pyspark-advanced-strategies-for-optimal-data-processing-3919191/data/online_sales_data.csv\", \n",
    "schema=schema, header=True)\n",
    "\n",
    "# Display the dataset\n",
    "print(\"Raw Dataset:\")\n",
    "df.show(10, truncate=False)"
   ]
  },
  {
   "cell_type": "code",
   "execution_count": 4,
   "metadata": {},
   "outputs": [
    {
     "name": "stderr",
     "output_type": "stream",
     "text": [
      "25/02/13 22:46:41 WARN SparkStringUtils: Truncated the string representation of a plan since it was too large. This behavior can be adjusted by setting 'spark.sql.debug.maxToStringFields'.\n",
      "                                                                                \r"
     ]
    },
    {
     "name": "stdout",
     "output_type": "stream",
     "text": [
      "+-------+--------+--------------------+----------+----------------+-----------------+------------------+--------------+--------------------+\n",
      "|summary|order_id|    customer_details|order_date|product_category|         quantity|    price_per_unit|          tags|               items|\n",
      "+-------+--------+--------------------+----------+----------------+-----------------+------------------+--------------+--------------------+\n",
      "|  count|     100|                 100|        63|              70|               78|                62|            82|                  80|\n",
      "|   mean|    NULL|                NULL|      NULL|            NULL|             1.68| 55.49113068483046|          NULL|                NULL|\n",
      "| stddev|    NULL|                NULL|      NULL|            NULL|4.639845176868095|27.456621254927434|          NULL|                NULL|\n",
      "|    min|  ORD001|       Alice Johnson|2022-12-30|           Books|               -1|15.769160684603047|['bulk_order']|  ['Book1', 'Book2']|\n",
      "|    max|  ORD100|James Anderson | ...|2023-05-22|  Home & Kitchen|              ten|             fifty|   urgent,gift|['Table', 'Chair'...|\n",
      "+-------+--------+--------------------+----------+----------------+-----------------+------------------+--------------+--------------------+\n",
      "\n"
     ]
    }
   ],
   "source": [
    "df.describe().show()"
   ]
  },
  {
   "cell_type": "code",
   "execution_count": 5,
   "metadata": {},
   "outputs": [
    {
     "name": "stdout",
     "output_type": "stream",
     "text": [
      "+--------+----------------+----------+----------------+--------+--------------+----+-----+\n",
      "|order_id|customer_details|order_date|product_category|quantity|price_per_unit|tags|items|\n",
      "+--------+----------------+----------+----------------+--------+--------------+----+-----+\n",
      "|       0|               0|        37|              30|      22|            38|  18|   20|\n",
      "+--------+----------------+----------+----------------+--------+--------------+----+-----+\n",
      "\n"
     ]
    },
    {
     "name": "stderr",
     "output_type": "stream",
     "text": [
      "25/02/13 22:46:44 WARN GarbageCollectionMetrics: To enable non-built-in garbage collector(s) List(G1 Concurrent GC), users should configure it(them) to spark.eventLog.gcMetrics.youngGenerationGarbageCollectors or spark.eventLog.gcMetrics.oldGenerationGarbageCollectors\n"
     ]
    }
   ],
   "source": [
    "# Find all the NULLs in the dataframe\n",
    "\n",
    "null_values_count = df.select([count(when(isnull(c) , c)).alias(c) for c in df.columns])\n",
    "\n",
    "null_values_count.show()"
   ]
  },
  {
   "cell_type": "code",
   "execution_count": 6,
   "metadata": {},
   "outputs": [
    {
     "name": "stdout",
     "output_type": "stream",
     "text": [
      "root\n",
      " |-- order_id: string (nullable = true)\n",
      " |-- customer_details: string (nullable = true)\n",
      " |-- order_date: string (nullable = true)\n",
      " |-- product_category: string (nullable = true)\n",
      " |-- quantity: string (nullable = true)\n",
      " |-- price_per_unit: string (nullable = true)\n",
      " |-- tags: string (nullable = true)\n",
      " |-- items: string (nullable = true)\n",
      "\n"
     ]
    }
   ],
   "source": [
    "df.printSchema()"
   ]
  },
  {
   "cell_type": "markdown",
   "metadata": {},
   "source": [
    "# Filtering rows"
   ]
  },
  {
   "cell_type": "code",
   "execution_count": 7,
   "metadata": {},
   "outputs": [
    {
     "name": "stdout",
     "output_type": "stream",
     "text": [
      "+--------+--------------------+----------+----------------+--------+------------------+------------------+--------------------+\n",
      "|order_id|    customer_details|order_date|product_category|quantity|    price_per_unit|              tags|               items|\n",
      "+--------+--------------------+----------+----------------+--------+------------------+------------------+--------------------+\n",
      "|  ORD002|Bob Smith | 584 S...|2022-12-30|            NULL|      -3|             fifty|    ['bulk_order']|  ['Book1', 'Book2']|\n",
      "|  ORD003|Charlie Brown | 5...|2023-05-22|           Books|     ten| 79.63563178465238|              NULL|  ['Book1', 'Book2']|\n",
      "|  ORD005|Eva Davis | 387 S...|      NULL|            NULL|      -4|             fifty|    ['bulk_order']|['Phone', 'Charge...|\n",
      "|  ORD006|        Frank Miller|2023-05-22|            NULL|      10|             fifty|       urgent,gift|['Table', 'Chair'...|\n",
      "|  ORD007|Grace Lee | 869 S...|2023-05-22|           Books|    NULL|             fifty|    ['bulk_order']|['Table', 'Chair'...|\n",
      "|  ORD008|Henry Moore | 661...|2022-12-30|            NULL|      -3|              NULL|       urgent,gift|['Table', 'Chair'...|\n",
      "|  ORD009|Ivy Taylor | 239 ...|      NULL|            NULL|    NULL|             fifty|       urgent,gift|  ['Book1', 'Book2']|\n",
      "|  ORD011|       Alice Johnson|      NULL|            NULL|      -4| 26.15555520916483|       urgent,gift|                NULL|\n",
      "|  ORD012|Bob Smith | 23 St...|2023-05-22|  Home & Kitchen|    NULL|             fifty|       urgent,gift|  ['Book1', 'Book2']|\n",
      "|  ORD014|David Wilson | 85...|2023-05-22|            NULL|       3|             fifty|       urgent,gift|  ['Book1', 'Book2']|\n",
      "|  ORD016|        Frank Miller|2022-12-30|     Electronics|     ten|             fifty|['urgent', 'gift']|                NULL|\n",
      "|  ORD017|Grace Lee | 579 S...|      NULL|     Electronics|      -3|             fifty|    ['bulk_order']|['Laptop', 'Mouse...|\n",
      "|  ORD020|James Anderson | ...|2022-12-30|  Home & Kitchen|      -2| 19.55396781305644|    ['bulk_order']|                NULL|\n",
      "|  ORD021|       Alice Johnson|2023-05-22|     Electronics|       7|             fifty|['urgent', 'gift']|['Laptop', 'Mouse...|\n",
      "|  ORD022|Bob Smith | 711 S...|      NULL|            NULL|      -4|             fifty|    ['bulk_order']|['Phone', 'Charge...|\n",
      "|  ORD023|Charlie Brown | 8...|      NULL|     Electronics|     ten|19.030281187517616|              NULL|['Phone', 'Charge...|\n",
      "|  ORD024|David Wilson | 16...|2022-12-30|           Books|     ten|              NULL|['urgent', 'gift']|['Phone', 'Charge...|\n",
      "|  ORD025|Eva Davis | 805 S...|2023-05-22|     Electronics|     ten|             fifty|    ['bulk_order']|['Laptop', 'Mouse...|\n",
      "|  ORD026|        Frank Miller|      NULL|  Home & Kitchen|      -1|             fifty|              NULL|['Phone', 'Charge...|\n",
      "|  ORD027|Grace Lee | 339 S...|      NULL|     Electronics|      -2|              NULL|['urgent', 'gift']|['Phone', 'Charge...|\n",
      "+--------+--------------------+----------+----------------+--------+------------------+------------------+--------------------+\n",
      "only showing top 20 rows\n",
      "\n"
     ]
    }
   ],
   "source": [
    "# Detect rows with negative quantity or invalid price\n",
    "df_invalid = df.filter((col(\"quantity\") < 0) | (col(\"quantity\").rlike(\"^[^0-9]\")) | (col(\"price_per_unit\").rlike(\"^[^0-9]\")))\n",
    "df_invalid.show()"
   ]
  },
  {
   "cell_type": "markdown",
   "metadata": {},
   "source": [
    "# Median imputation and correction\n",
    "\n",
    "Data is skewed in quantity column. So we will impute median for NULLs in this column"
   ]
  },
  {
   "cell_type": "code",
   "execution_count": null,
   "metadata": {},
   "outputs": [
    {
     "name": "stdout",
     "output_type": "stream",
     "text": [
      "+--------+--------------------+----------+----------------+--------+------------------+------------------+--------------------+\n",
      "|order_id|    customer_details|order_date|product_category|quantity|    price_per_unit|              tags|               items|\n",
      "+--------+--------------------+----------+----------------+--------+------------------+------------------+--------------------+\n",
      "|  ORD001|       Alice Johnson|      NULL|     Electronics|     4.0|15.769160684603047|['urgent', 'gift']|['Phone', 'Charge...|\n",
      "|  ORD002|Bob Smith | 584 S...|2022-12-30|            NULL|     0.0|              50.0|    ['bulk_order']|  ['Book1', 'Book2']|\n",
      "|  ORD003|Charlie Brown | 5...|2023-05-22|           Books|     1.0| 79.63563178465238|              NULL|  ['Book1', 'Book2']|\n",
      "|  ORD004|David Wilson | 29...|2022-12-30|           Books|     1.0|27.556430196566655|              NULL|['Laptop', 'Mouse...|\n",
      "|  ORD005|Eva Davis | 387 S...|      NULL|            NULL|     0.0|              50.0|    ['bulk_order']|['Phone', 'Charge...|\n",
      "+--------+--------------------+----------+----------------+--------+------------------+------------------+--------------------+\n",
      "only showing top 5 rows\n",
      "\n"
     ]
    }
   ],
   "source": [
    "# \"quantity\" is String type, first we will cast it to Numeric and then impute the Median\n",
    "df = df.withColumn(\"quantity\" , col(\"quantity\").cast(\"double\"))\n",
    "# Step 1: Calculate the median of the 'quantity' column\n",
    "median_quantity = df.approxQuantile(\"quantity\", [0.5], 0.0)[0]  # 0.5 for median (50th percentile)\n",
    "df = df.withColumn(\"quantity\" , when(col(\"quantity\").isNull() , median_quantity).otherwise(col(\"quantity\")))\n",
    "\n",
    "# Step 2: convert strings in `price_per_unit` columns to numeric\n",
    "df = df.withColumn(\"price_per_unit\" , when(col(\"price_per_unit\") == \"fifty\", 50.00 ).otherwise(col(\"price_per_unit\")))\n",
    "\n",
    "# Step 3:Replace negative values in `quantity with 0`\n",
    "df = df.withColumn(\"quantity\" , when(col(\"quantity\") < 0 , 0).otherwise(col(\"quantity\")))\n",
    "df.show(5)"
   ]
  },
  {
   "cell_type": "markdown",
   "metadata": {},
   "source": [
    "# Splitting combined columns\n",
    "Use `split` function\n",
    "\n",
    "Split the `customer_details` column at the delimiter `|`, front part will be `Customer Name` & back part is `Customer Address`"
   ]
  },
  {
   "cell_type": "code",
   "execution_count": 19,
   "metadata": {},
   "outputs": [
    {
     "name": "stdout",
     "output_type": "stream",
     "text": [
      "+--------+--------------------+----------+----------------+--------+------------------+------------------+--------------------+---------------+--------------------+\n",
      "|order_id|    customer_details|order_date|product_category|quantity|    price_per_unit|              tags|               items|  Customer Name|    Customer Address|\n",
      "+--------+--------------------+----------+----------------+--------+------------------+------------------+--------------------+---------------+--------------------+\n",
      "|  ORD001|       Alice Johnson|      NULL|     Electronics|     4.0|15.769160684603047|['urgent', 'gift']|['Phone', 'Charge...|  Alice Johnson|             Unknown|\n",
      "|  ORD002|Bob Smith | 584 S...|2022-12-30|            NULL|    -3.0|             fifty|    ['bulk_order']|  ['Book1', 'Book2']|     Bob Smith | 584 Street Name,...|\n",
      "|  ORD003|Charlie Brown | 5...|2023-05-22|           Books|     1.0| 79.63563178465238|              NULL|  ['Book1', 'Book2']| Charlie Brown | 598 Street Name,...|\n",
      "|  ORD004|David Wilson | 29...|2022-12-30|           Books|     1.0|27.556430196566655|              NULL|['Laptop', 'Mouse...|  David Wilson | 290 Street Name,...|\n",
      "|  ORD005|Eva Davis | 387 S...|      NULL|            NULL|    -4.0|             fifty|    ['bulk_order']|['Phone', 'Charge...|     Eva Davis | 387 Street Name,...|\n",
      "|  ORD006|        Frank Miller|2023-05-22|            NULL|    10.0|             fifty|       urgent,gift|['Table', 'Chair'...|   Frank Miller|             Unknown|\n",
      "|  ORD007|Grace Lee | 869 S...|2023-05-22|           Books|     1.0|             fifty|    ['bulk_order']|['Table', 'Chair'...|     Grace Lee | 869 Street Name,...|\n",
      "|  ORD008|Henry Moore | 661...|2022-12-30|            NULL|    -3.0|              NULL|       urgent,gift|['Table', 'Chair'...|   Henry Moore | 661 Street Name,...|\n",
      "|  ORD009|Ivy Taylor | 239 ...|      NULL|            NULL|     1.0|             fifty|       urgent,gift|  ['Book1', 'Book2']|    Ivy Taylor | 239 Street Name,...|\n",
      "|  ORD010|James Anderson | ...|2023-01-15|     Electronics|     4.0|37.530252520104796|       urgent,gift|                NULL|James Anderson | 760 Street Name,...|\n",
      "|  ORD011|       Alice Johnson|      NULL|            NULL|    -4.0| 26.15555520916483|       urgent,gift|                NULL|  Alice Johnson|             Unknown|\n",
      "|  ORD012|Bob Smith | 23 St...|2023-05-22|  Home & Kitchen|     1.0|             fifty|       urgent,gift|  ['Book1', 'Book2']|     Bob Smith | 23 Street Name, ...|\n",
      "|  ORD013|Charlie Brown | 7...|2022-12-30|            NULL|     5.0|              NULL|              NULL|['Table', 'Chair'...| Charlie Brown | 769 Street Name,...|\n",
      "|  ORD014|David Wilson | 85...|2023-05-22|            NULL|     3.0|             fifty|       urgent,gift|  ['Book1', 'Book2']|  David Wilson | 855 Street Name,...|\n",
      "|  ORD015|Eva Davis | 672 S...|2022-12-30|           Books|     6.0| 89.91645214936939|['urgent', 'gift']|['Phone', 'Charge...|     Eva Davis | 672 Street Name,...|\n",
      "|  ORD016|        Frank Miller|2022-12-30|     Electronics|     1.0|             fifty|['urgent', 'gift']|                NULL|   Frank Miller|             Unknown|\n",
      "|  ORD017|Grace Lee | 579 S...|      NULL|     Electronics|    -3.0|             fifty|    ['bulk_order']|['Laptop', 'Mouse...|     Grace Lee | 579 Street Name,...|\n",
      "|  ORD018|Henry Moore | 654...|2023-05-22|            NULL|    10.0| 70.58565812875656|       urgent,gift|['Phone', 'Charge...|   Henry Moore | 654 Street Name,...|\n",
      "|  ORD019|Ivy Taylor | 403 ...|      NULL|            NULL|     3.0| 72.02496035537018|       urgent,gift|['Table', 'Chair'...|    Ivy Taylor | 403 Street Name,...|\n",
      "|  ORD020|James Anderson | ...|2022-12-30|  Home & Kitchen|    -2.0| 19.55396781305644|    ['bulk_order']|                NULL|James Anderson | 210 Street Name,...|\n",
      "+--------+--------------------+----------+----------------+--------+------------------+------------------+--------------------+---------------+--------------------+\n",
      "only showing top 20 rows\n",
      "\n"
     ]
    }
   ],
   "source": [
    "df = df.withColumn(\"Customer Name\", split(col(\"customer_details\") , \"\\\\|\")[0]).\\\n",
    "         withColumn(\"Customer Address\" , split(col(\"customer_details\"), \"\\\\|\")[1])\n",
    "\n",
    "df = df.withColumn(\"Customer Address\" , when(col(\"Customer Address\").isNull() , lit(\"Unknown\")).otherwise(col(\"Customer Address\")))\n",
    "df.show()"
   ]
  },
  {
   "cell_type": "markdown",
   "metadata": {},
   "source": [
    "## Regex\n",
    "\n",
    "If the combined column is more complicated you can use `regex_extract` to split them"
   ]
  },
  {
   "cell_type": "code",
   "execution_count": 20,
   "metadata": {},
   "outputs": [
    {
     "name": "stdout",
     "output_type": "stream",
     "text": [
      "+--------+--------------------+----------+----------------+--------+------------------+------------------+--------------------+---------------+--------------------+---------------+----+\n",
      "|order_id|    customer_details|order_date|product_category|quantity|    price_per_unit|              tags|               items|  Customer Name|    Customer Address|         street|city|\n",
      "+--------+--------------------+----------+----------------+--------+------------------+------------------+--------------------+---------------+--------------------+---------------+----+\n",
      "|  ORD001|       Alice Johnson|      NULL|     Electronics|     4.0|15.769160684603047|['urgent', 'gift']|['Phone', 'Charge...|  Alice Johnson|             Unknown|               |    |\n",
      "|  ORD002|Bob Smith | 584 S...|2022-12-30|            NULL|    -3.0|             fifty|    ['bulk_order']|  ['Book1', 'Book2']|     Bob Smith | 584 Street Name,...|584 Street Name|  16|\n",
      "|  ORD003|Charlie Brown | 5...|2023-05-22|           Books|     1.0| 79.63563178465238|              NULL|  ['Book1', 'Book2']| Charlie Brown | 598 Street Name,...|598 Street Name|  17|\n",
      "|  ORD004|David Wilson | 29...|2022-12-30|           Books|     1.0|27.556430196566655|              NULL|['Laptop', 'Mouse...|  David Wilson | 290 Street Name,...|290 Street Name|  12|\n",
      "|  ORD005|Eva Davis | 387 S...|      NULL|            NULL|    -4.0|             fifty|    ['bulk_order']|['Phone', 'Charge...|     Eva Davis | 387 Street Name,...|387 Street Name|  10|\n",
      "|  ORD006|        Frank Miller|2023-05-22|            NULL|    10.0|             fifty|       urgent,gift|['Table', 'Chair'...|   Frank Miller|             Unknown|               |    |\n",
      "|  ORD007|Grace Lee | 869 S...|2023-05-22|           Books|     1.0|             fifty|    ['bulk_order']|['Table', 'Chair'...|     Grace Lee | 869 Street Name,...|869 Street Name|  16|\n",
      "|  ORD008|Henry Moore | 661...|2022-12-30|            NULL|    -3.0|              NULL|       urgent,gift|['Table', 'Chair'...|   Henry Moore | 661 Street Name,...|661 Street Name|   7|\n",
      "|  ORD009|Ivy Taylor | 239 ...|      NULL|            NULL|     1.0|             fifty|       urgent,gift|  ['Book1', 'Book2']|    Ivy Taylor | 239 Street Name,...|239 Street Name|   3|\n",
      "|  ORD010|James Anderson | ...|2023-01-15|     Electronics|     4.0|37.530252520104796|       urgent,gift|                NULL|James Anderson | 760 Street Name,...|760 Street Name|  16|\n",
      "|  ORD011|       Alice Johnson|      NULL|            NULL|    -4.0| 26.15555520916483|       urgent,gift|                NULL|  Alice Johnson|             Unknown|               |    |\n",
      "|  ORD012|Bob Smith | 23 St...|2023-05-22|  Home & Kitchen|     1.0|             fifty|       urgent,gift|  ['Book1', 'Book2']|     Bob Smith | 23 Street Name, ...| 23 Street Name|  17|\n",
      "|  ORD013|Charlie Brown | 7...|2022-12-30|            NULL|     5.0|              NULL|              NULL|['Table', 'Chair'...| Charlie Brown | 769 Street Name,...|769 Street Name|   9|\n",
      "|  ORD014|David Wilson | 85...|2023-05-22|            NULL|     3.0|             fifty|       urgent,gift|  ['Book1', 'Book2']|  David Wilson | 855 Street Name,...|855 Street Name|  16|\n",
      "|  ORD015|Eva Davis | 672 S...|2022-12-30|           Books|     6.0| 89.91645214936939|['urgent', 'gift']|['Phone', 'Charge...|     Eva Davis | 672 Street Name,...|672 Street Name|   2|\n",
      "|  ORD016|        Frank Miller|2022-12-30|     Electronics|     1.0|             fifty|['urgent', 'gift']|                NULL|   Frank Miller|             Unknown|               |    |\n",
      "|  ORD017|Grace Lee | 579 S...|      NULL|     Electronics|    -3.0|             fifty|    ['bulk_order']|['Laptop', 'Mouse...|     Grace Lee | 579 Street Name,...|579 Street Name|  14|\n",
      "|  ORD018|Henry Moore | 654...|2023-05-22|            NULL|    10.0| 70.58565812875656|       urgent,gift|['Phone', 'Charge...|   Henry Moore | 654 Street Name,...|654 Street Name|  12|\n",
      "|  ORD019|Ivy Taylor | 403 ...|      NULL|            NULL|     3.0| 72.02496035537018|       urgent,gift|['Table', 'Chair'...|    Ivy Taylor | 403 Street Name,...|403 Street Name|   8|\n",
      "|  ORD020|James Anderson | ...|2022-12-30|  Home & Kitchen|    -2.0| 19.55396781305644|    ['bulk_order']|                NULL|James Anderson | 210 Street Name,...|210 Street Name|  13|\n",
      "+--------+--------------------+----------+----------------+--------+------------------+------------------+--------------------+---------------+--------------------+---------------+----+\n",
      "only showing top 20 rows\n",
      "\n"
     ]
    }
   ],
   "source": [
    "from pyspark.sql.functions import regexp_extract\n",
    "\n",
    "# Example of extracting components from customer_details (e.g., street name, city)\n",
    "df_address_split = df.withColumn('street', regexp_extract(col('customer_details'), r'(\\d+ Street Name)', 1)) \\\n",
    "                     .withColumn('city', regexp_extract(col('customer_details'), r'City (\\d+)', 1))\n",
    "df_address_split.show()\n"
   ]
  },
  {
   "cell_type": "code",
   "execution_count": null,
   "metadata": {},
   "outputs": [],
   "source": []
  }
 ],
 "metadata": {
  "kernelspec": {
   "display_name": ".venv",
   "language": "python",
   "name": "python3"
  },
  "language_info": {
   "codemirror_mode": {
    "name": "ipython",
    "version": 3
   },
   "file_extension": ".py",
   "mimetype": "text/x-python",
   "name": "python",
   "nbconvert_exporter": "python",
   "pygments_lexer": "ipython3",
   "version": "3.12.1"
  }
 },
 "nbformat": 4,
 "nbformat_minor": 2
}
